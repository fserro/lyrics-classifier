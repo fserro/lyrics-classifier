{
 "cells": [
  {
   "cell_type": "markdown",
   "metadata": {},
   "source": [
    "# Lyrics Project"
   ]
  },
  {
   "cell_type": "code",
   "execution_count": 1,
   "metadata": {},
   "outputs": [],
   "source": [
    "import requests\n",
    "from bs4 import BeautifulSoup\n",
    "import re"
   ]
  },
  {
   "cell_type": "markdown",
   "metadata": {},
   "source": [
    "### Access the Artist URL"
   ]
  },
  {
   "cell_type": "code",
   "execution_count": 2,
   "metadata": {},
   "outputs": [],
   "source": [
    "url = 'https://www.lyrics.com/artist/R%C3%B3is%C3%ADn-Murphy/350933'"
   ]
  },
  {
   "cell_type": "code",
   "execution_count": 3,
   "metadata": {},
   "outputs": [],
   "source": [
    "response = requests.get(url)"
   ]
  },
  {
   "cell_type": "code",
   "execution_count": 4,
   "metadata": {},
   "outputs": [
    {
     "data": {
      "text/plain": [
       "200"
      ]
     },
     "execution_count": 4,
     "metadata": {},
     "output_type": "execute_result"
    }
   ],
   "source": [
    "# Check the status code\n",
    "response.status_code\n",
    "\n",
    "# 200: means that the request was valid and we got what we asked for\n",
    "# 404: Page not found\n",
    "# Everything with 400 means that we made a mistake or are not authorized\n",
    "# Everything with 500 means that there is an error on the server side"
   ]
  },
  {
   "cell_type": "code",
   "execution_count": 5,
   "metadata": {},
   "outputs": [],
   "source": [
    "html_artist = response.text"
   ]
  },
  {
   "cell_type": "code",
   "execution_count": 6,
   "metadata": {},
   "outputs": [
    {
     "data": {
      "text/plain": [
       "'\\n<!doctype html>\\n<!--[if lt IE 7]> <html class=\"no-js lt-ie9 lt-ie8 lt-ie7\" lang=\"en\"> <![endif]-->\\n<!--[if IE 7]>    <html class=\"no-js lt-ie9 lt-ie8\" lang=\"en\"> <![endif]-->\\n<!--[if IE 8]>    <html '"
      ]
     },
     "execution_count": 6,
     "metadata": {},
     "output_type": "execute_result"
    }
   ],
   "source": [
    "html_artist[:200]"
   ]
  },
  {
   "cell_type": "code",
   "execution_count": 7,
   "metadata": {},
   "outputs": [
    {
     "data": {
      "text/plain": [
       "'Róisín_Murphy'"
      ]
     },
     "execution_count": 7,
     "metadata": {},
     "output_type": "execute_result"
    }
   ],
   "source": [
    "# retrieves artist name. Includes accentuation and spaces\n",
    "# re.findall returns a list of strings, hence the indexation.\n",
    "\n",
    "artist_name = re.findall('Albums by <strong>([^<]+)', html_artist)[0]\n",
    "artist_name.replace(' ', '_')"
   ]
  },
  {
   "cell_type": "code",
   "execution_count": 8,
   "metadata": {},
   "outputs": [],
   "source": [
    "parsed_html_artist = BeautifulSoup(html_artist)"
   ]
  },
  {
   "cell_type": "code",
   "execution_count": 9,
   "metadata": {},
   "outputs": [
    {
     "data": {
      "text/plain": [
       "bs4.BeautifulSoup"
      ]
     },
     "execution_count": 9,
     "metadata": {},
     "output_type": "execute_result"
    }
   ],
   "source": [
    "type(parsed_html_artist)"
   ]
  },
  {
   "cell_type": "code",
   "execution_count": 10,
   "metadata": {},
   "outputs": [
    {
     "data": {
      "text/plain": [
       "121"
      ]
     },
     "execution_count": 10,
     "metadata": {},
     "output_type": "execute_result"
    }
   ],
   "source": [
    "html_links = parsed_html_artist.find_all(attrs={'class': 'tal qx'})\n",
    "len(html_links) # this returns the number of songs"
   ]
  },
  {
   "cell_type": "code",
   "execution_count": 11,
   "metadata": {},
   "outputs": [
    {
     "data": {
      "text/plain": [
       "<td class=\"tal qx\"><strong><a href=\"/lyric/29625905/R%C3%B3is%C3%ADn+Murphy/Look+Around+You+%5BRaik+Remix%5D\">Look Around You [Raik Remix]</a></strong></td>"
      ]
     },
     "execution_count": 11,
     "metadata": {},
     "output_type": "execute_result"
    }
   ],
   "source": [
    "html_links[0]"
   ]
  },
  {
   "cell_type": "code",
   "execution_count": 12,
   "metadata": {},
   "outputs": [],
   "source": [
    "# This loop uses regular expressions to strip the superfluos information before and after the link.\n",
    "# re.sub(pattern, replacement, target string): It sub(stitutes) the pattern with an empty substring.\n",
    "# It also adds the https:... prefix to each link before appending it to a list.\n",
    "\n",
    "lyrics_links = []\n",
    "for entry in html_links:\n",
    "    a = str(entry)\n",
    "    b = re.sub('.+=+?\"', '', a)\n",
    "    c = re.sub('\".+>', '', b)\n",
    "    c = 'https://www.lyrics.com' + c\n",
    "    lyrics_links.append(c)"
   ]
  },
  {
   "cell_type": "code",
   "execution_count": 15,
   "metadata": {},
   "outputs": [
    {
     "data": {
      "text/plain": [
       "['https://www.lyrics.com/lyric/29625905/R%C3%B3is%C3%ADn+Murphy/Look+Around+You+%5BRaik+Remix%5D',\n",
       " 'https://www.lyrics.com/lyric/29574756/R%C3%B3is%C3%ADn+Murphy/Look+Around+You+%5BOriginal+Mix%5D',\n",
       " 'https://www.lyrics.com/lyric/29464167/R%C3%B3is%C3%ADn+Murphy/Look+Around+You']"
      ]
     },
     "execution_count": 15,
     "metadata": {},
     "output_type": "execute_result"
    }
   ],
   "source": [
    "lyrics_links[:3]"
   ]
  },
  {
   "cell_type": "markdown",
   "metadata": {},
   "source": [
    "### Access the URL of one song"
   ]
  },
  {
   "cell_type": "code",
   "execution_count": 16,
   "metadata": {},
   "outputs": [],
   "source": [
    "response_song = requests.get(lyrics_links[0])"
   ]
  },
  {
   "cell_type": "code",
   "execution_count": 17,
   "metadata": {},
   "outputs": [
    {
     "data": {
      "text/plain": [
       "200"
      ]
     },
     "execution_count": 17,
     "metadata": {},
     "output_type": "execute_result"
    }
   ],
   "source": [
    "response_song.status_code"
   ]
  },
  {
   "cell_type": "code",
   "execution_count": 18,
   "metadata": {},
   "outputs": [],
   "source": [
    "html_song = response_song.text"
   ]
  },
  {
   "cell_type": "code",
   "execution_count": 19,
   "metadata": {},
   "outputs": [],
   "source": [
    "soup_song = BeautifulSoup(html_song)"
   ]
  },
  {
   "cell_type": "code",
   "execution_count": 22,
   "metadata": {},
   "outputs": [],
   "source": [
    "html_lyrics = str(soup_song.find(attrs={'class': \"lyric-body\"}))"
   ]
  },
  {
   "cell_type": "code",
   "execution_count": 23,
   "metadata": {},
   "outputs": [
    {
     "data": {
      "text/plain": [
       "'<pre class=\"lyric-body\" data-lang=\"en\" dir=\"ltr\" id=\"lyric-body-text\">I can see a sky in the <a href=\"https://www.definitions.net/definition/place\" style=\"color:#222;\">place</a> where we\\'re happy\\nI ca'"
      ]
     },
     "execution_count": 23,
     "metadata": {},
     "output_type": "execute_result"
    }
   ],
   "source": [
    "html_lyrics[:200]"
   ]
  },
  {
   "cell_type": "code",
   "execution_count": 24,
   "metadata": {},
   "outputs": [],
   "source": [
    "# Remove all the noisy links in the lyrics\n",
    "lyrics = re.sub('<.+?>+?', '', html_lyrics)"
   ]
  },
  {
   "cell_type": "code",
   "execution_count": 25,
   "metadata": {},
   "outputs": [
    {
     "data": {
      "text/plain": [
       "\"I can see a sky in the place where we're happy\\nI can see it all now, our friends are all there\\nI close my eyes and I know that you're actually with me\\nI'm going in, i'm going into a dream state\\nAs it real as it feels\\nNo, no, don't turn back\\nCan't just turn around\\n???\\nAnd my heart beating faster\\n\\nI go anywhere to find you\\nAny place beside you\\nI gonna stay right where I found you\\nI look around me\\nI go anywhere to find you\\nAny place beside you\\nI stay right where I found you\\nI look around me\\nIt's just astounding\\n\\nWe're not apart\\nNo, we're just a part of the landscape\\nI can see it all now\\n\\nI go anywhere to find you\\nAny place beside you\\nI stay right where I found you\\nI look around me\\n\\nI go anywhere to find you\\nAny place beside you\\nI stay right where I found you\\nI look around me\\n\\nImaging me a landscape\\nI can see it all night\\nYour dancing in the devils line feels right\\nBab ba badab aba a\\n\\nI go anywhere to find you\\nAny place beside you\\nI'm gonna stay right where I found you\\nI look around me\\nI go anywhere to find you\\nAny place beside you\\nI stay right where I found you\\nI look around me\\nIt's just astounding\""
      ]
     },
     "execution_count": 25,
     "metadata": {},
     "output_type": "execute_result"
    }
   ],
   "source": [
    "# Remove the square brackets before and after the lyrics body\n",
    "lyrics = re.sub('\\[', '', lyrics)\n",
    "lyrics = re.sub('\\]', '', lyrics)\n",
    "lyrics"
   ]
  },
  {
   "cell_type": "code",
   "execution_count": null,
   "metadata": {},
   "outputs": [],
   "source": [
    "# save lyrics as a txt file to the songs folder\n",
    "with open('./songs/test.txt', 'w') as f:\n",
    "    f.writelines(lyrics)"
   ]
  },
  {
   "cell_type": "markdown",
   "metadata": {},
   "source": [
    "## Loop the links and save lyrics as separate files"
   ]
  },
  {
   "cell_type": "code",
   "execution_count": null,
   "metadata": {},
   "outputs": [],
   "source": [
    "'''\n",
    "Still need to upgrade:\n",
    "    - a way to extract the name of the artist and encode it in the file and folder. Consider accentuation and spaces!\n",
    "'''\n",
    "\n",
    "i = 1\n",
    "for song in lyrics_links:\n",
    "    response_song = requests.get(song)\n",
    "    html_song = response_song.text\n",
    "    soup_song = BeautifulSoup(html_song)\n",
    "    html_lyrics = str(soup_song.find(attrs={'class': \"lyric-body\"}))\n",
    "    lyrics = re.sub('<.+?>+?', '', html_lyrics)\n",
    "    lyrics = re.sub('\\[', '', lyrics)\n",
    "    lyrics = re.sub('\\]', '', lyrics)\n",
    "    num_len = len(str(len(lyrics_links))) # lol... read next comment first.\n",
    "    with open('./songs/Róisín_Murphy_' + str(i).zfill(num_len) + '.txt', 'w') as f:\n",
    "        #zfill(num_len) makes sure there are enough leading 0's before the number to sort files easily.\n",
    "        f.writelines(lyrics)\n",
    "    i += 1"
   ]
  },
  {
   "cell_type": "markdown",
   "metadata": {},
   "source": [
    "## Define function"
   ]
  },
  {
   "cell_type": "code",
   "execution_count": 42,
   "metadata": {},
   "outputs": [],
   "source": [
    "def scrape_lyrics(url):\n",
    "    '''\n",
    "    Scrapes the lyrics of all songs of an artist privided their page on lyrics.com.\n",
    "    The lyrics are then saved as separate files in a new diretory in the current working.\n",
    "    \n",
    "    Parameters\n",
    "    ----------\n",
    "    url : str\n",
    "        the url of artist page on lyrics.com\n",
    "    '''\n",
    "    response = requests.get(url)\n",
    "    response.text\n",
    "    html_artist = response.text\n",
    "    artist_name = re.findall('Albums by <strong>([^<]+)', html_artist)[0]\n",
    "    soup_artist = BeautifulSoup(html_artist)\n",
    "    html_links = soup_artist.find_all(attrs={'class': 'tal qx'})\n",
    "    lyrics_links = []\n",
    "    #TODO: song_titles = []\n",
    "    for entry in html_links:\n",
    "        a = str(entry)\n",
    "        b = re.sub('.+=+?\"', '', a)\n",
    "        #TODO: song_title = re.findall('\">(.+?)<.+>', a)[0]\n",
    "        c = re.sub('\".+>', '', b)\n",
    "        d = 'https://www.lyrics.com' + c\n",
    "        lyrics_links.append(d)\n",
    "        #TODO: song_titles.append(song_title)\n",
    "        #TODO: if song_titles: unique...\n",
    "    i = 1\n",
    "    for song in lyrics_links:\n",
    "        response_song = requests.get(song)\n",
    "        html_song = response_song.text\n",
    "        # TODO: maybe here I can add the song_name. This may avoid duplicates...\n",
    "        soup_song = BeautifulSoup(html_song)\n",
    "        html_lyrics = str(soup_song.find(attrs={'class': \"lyric-body\"}))\n",
    "        if html_lyrics == 'None':\n",
    "            continue # skips empty lyrics\n",
    "        else:\n",
    "            lyrics = re.sub('<.+?>+?', '', html_lyrics)\n",
    "            lyrics = re.sub('\\[', '', lyrics)\n",
    "            lyrics = re.sub('\\]', '', lyrics)\n",
    "            num_len = len(str(len(lyrics_links))) # lol... read next comment first.\n",
    "            with open('./songs/' + artist_name.replace(' ', '_') + '_' + str(i).zfill(num_len) + '.txt', 'w') as f:\n",
    "                #zfill(num_len) makes sure there are enough leading 0's before the number to sort files easily.\n",
    "                f.writelines(lyrics)\n",
    "                f.read\n",
    "            i += 1\n"
   ]
  },
  {
   "cell_type": "markdown",
   "metadata": {},
   "source": [
    "## Lines for testing code"
   ]
  },
  {
   "cell_type": "code",
   "execution_count": 43,
   "metadata": {},
   "outputs": [],
   "source": [
    "scrape_lyrics('https://www.lyrics.com/artist/Diamanda-Gal%C3%A1s/4330')"
   ]
  },
  {
   "cell_type": "code",
   "execution_count": 60,
   "metadata": {},
   "outputs": [
    {
     "data": {
      "text/plain": [
       "'ic/29625905/R%C3%B3is%C3%ADn+Murphy/Look+Around+You+%5BRaik+Remix%5D\">Look Around You [Raik Remix]</a></strong></td>'"
      ]
     },
     "execution_count": 60,
     "metadata": {},
     "output_type": "execute_result"
    }
   ],
   "source": [
    "str(html_links[0])[40:]"
   ]
  },
  {
   "cell_type": "code",
   "execution_count": 66,
   "metadata": {},
   "outputs": [
    {
     "data": {
      "text/plain": [
       "'Look Around You [Raik Remix]'"
      ]
     },
     "execution_count": 66,
     "metadata": {},
     "output_type": "execute_result"
    }
   ],
   "source": [
    "re.findall('\">(.+?)<.+>', str(html_links[0])[40:])[0]"
   ]
  },
  {
   "cell_type": "markdown",
   "metadata": {},
   "source": [
    "## Python file"
   ]
  },
  {
   "cell_type": "code",
   "execution_count": 23,
   "metadata": {},
   "outputs": [],
   "source": [
    "import requests\n",
    "from bs4 import BeautifulSoup\n",
    "import re\n",
    "import sys\n",
    "from sklearn.linear_model import LogisticRegression\n",
    "from sklearn.model_selection import train_test_split as tts\n",
    "##\n",
    "from collections import Counter\n"
   ]
  },
  {
   "cell_type": "code",
   "execution_count": 1,
   "metadata": {},
   "outputs": [],
   "source": [
    "url = 'https://www.lyrics.com/artist/Arca'"
   ]
  },
  {
   "cell_type": "code",
   "execution_count": 94,
   "metadata": {},
   "outputs": [],
   "source": [
    "def scrape_links(url):\n",
    "    '''\n",
    "    Scrapes the links to all songs of an artist provided their page on lyrics.com.\n",
    "    \n",
    "    Parameters\n",
    "    ----------\n",
    "    url : str\n",
    "        the url of artist page on lyrics.com\n",
    "\n",
    "    Returns\n",
    "    -------\n",
    "    list\n",
    "        a list of strings with the links to the all song lyrics on the artist page on lyrics.com\n",
    "    '''\n",
    "\n",
    "    response = requests.get(url)\n",
    "    html_artist = response.text\n",
    "    artist_name = re.findall('Albums by <strong>([^<]+)', html_artist)[0]\n",
    "    soup_artist = BeautifulSoup(html_artist, features=\"lxml\")\n",
    "    html_links = soup_artist.find_all(attrs={'class': 'tal qx'})\n",
    "    lyrics_links = []\n",
    "    song_titles = []\n",
    "    for entry in html_links:\n",
    "        str_entry = str(entry.find_all('a')[0])\n",
    "        path_end, song_title = re.findall('\\/l[^<]+', str_entry)[0].split(sep='\">')\n",
    "        if song_title not in song_titles: #this removes duplicates\n",
    "            lyrics_links.append('https://www.lyrics.com' + path_end)\n",
    "            song_titles.append(song_title)\n",
    "    return lyrics_links, artist_name, song_titles"
   ]
  },
  {
   "cell_type": "code",
   "execution_count": 13,
   "metadata": {},
   "outputs": [],
   "source": [
    "url = 'https://www.lyrics.com/artist/Laurie-Anderson/3545'"
   ]
  },
  {
   "cell_type": "code",
   "execution_count": 96,
   "metadata": {},
   "outputs": [
    {
     "data": {
      "text/plain": [
       "92"
      ]
     },
     "execution_count": 96,
     "metadata": {},
     "output_type": "execute_result"
    }
   ],
   "source": [
    "len(scrape_links(url)[2])"
   ]
  },
  {
   "cell_type": "code",
   "execution_count": 65,
   "metadata": {},
   "outputs": [],
   "source": [
    "lyrics_links = scrape_links(url)"
   ]
  },
  {
   "cell_type": "code",
   "execution_count": 66,
   "metadata": {},
   "outputs": [
    {
     "data": {
      "text/plain": [
       "(['https://www.lyrics.com/lyric/35252944/Laurie+Anderson/Shining+Star+%28Makin%27+My+Love%29'],\n",
       " 'Laurie Anderson')"
      ]
     },
     "execution_count": 66,
     "metadata": {},
     "output_type": "execute_result"
    }
   ],
   "source": [
    "lyrics_links"
   ]
  },
  {
   "cell_type": "code",
   "execution_count": 25,
   "metadata": {},
   "outputs": [],
   "source": [
    "response = requests.get(url)\n",
    "html_artist = response.text\n",
    "soup_artist = BeautifulSoup(html_artist, features=\"lxml\")\n",
    "html_links = soup_artist.find_all(attrs={'class': 'tal qx'})"
   ]
  },
  {
   "cell_type": "code",
   "execution_count": 42,
   "metadata": {},
   "outputs": [],
   "source": [
    "test = str(html_links[1].find_all('a')[0])"
   ]
  },
  {
   "cell_type": "code",
   "execution_count": 56,
   "metadata": {},
   "outputs": [
    {
     "data": {
      "text/plain": [
       "'/lyric/35252944/Laurie+Anderson/Shining+Star+%28Makin%27+My+Love%29'"
      ]
     },
     "execution_count": 56,
     "metadata": {},
     "output_type": "execute_result"
    }
   ],
   "source": [
    "a, b = re.findall('\\/l[^<]+', test)[0].split(sep='\">')"
   ]
  },
  {
   "cell_type": "code",
   "execution_count": 7,
   "metadata": {},
   "outputs": [
    {
     "data": {
      "text/plain": [
       "[]"
      ]
     },
     "execution_count": 7,
     "metadata": {},
     "output_type": "execute_result"
    }
   ],
   "source": [
    "response = requests.get(url)\n",
    "html_artist = response.text\n",
    "re.findall('Albums by <strong>([^<]+)', html_artist)"
   ]
  },
  {
   "cell_type": "code",
   "execution_count": null,
   "metadata": {},
   "outputs": [],
   "source": [
    "def scrape_lyrics(url):\n",
    "    '''\n",
    "    Scrapes the lyrics of all songs of an artist provided their page on lyrics.com.\n",
    "    The lyrics are then saved as separate files in a new diretcory in the current working directory.\n",
    "    \n",
    "    Parameters\n",
    "    ----------\n",
    "    url : str\n",
    "        the url of artist page on lyrics.com\n",
    "    '''\n",
    "    lyrics_links, artist_name = scrape_links(url)\n",
    "    for i, song in enumerate(lyrics_links, 1):\n",
    "        response_song = requests.get(song)\n",
    "        html_song = response_song.text\n",
    "        # TODO: maybe here I can add the song_name. This may avoid duplicates...\n",
    "        soup_song = BeautifulSoup(html_song, features=\"lxml\")\n",
    "        html_lyrics = str(soup_song.find(attrs={'class': \"lyric-body\"}))\n",
    "        if html_lyrics == 'None':\n",
    "            continue # skips empty lyrics\n",
    "        else:\n",
    "            lyrics = re.sub('<.+?>+?', '', html_lyrics)\n",
    "            lyrics = re.sub('\\[', '', lyrics)\n",
    "            lyrics = re.sub('\\]', '', lyrics)\n",
    "            num_len = len(str(len(lyrics_links))) # length of number of songs\n",
    "            with open('./songs/' + artist_name.replace(' ', '_') + '_' + str(i).zfill(num_len) + '.txt', 'w') as f:\n",
    "                #zfill(num_len) makes sure there are enough leading 0's before the number to sort files easily.\n",
    "                f.writelines(lyrics)\n",
    "            list_lyrics_artist(artist_name, i)"
   ]
  },
  {
   "cell_type": "code",
   "execution_count": null,
   "metadata": {},
   "outputs": [],
   "source": [
    "def list_lyrics_artist(artist_name, num_songs):\n",
    "    '''\n",
    "    Creates two lists of strings: one with the i lyrics and another with the name of the artist i times.\n",
    "    '''\n",
    "    artist_list = [artist_name for i in range(num_songs)]\n",
    "    num_len = len(str(num_songs))\n",
    "    lyrics_list = []\n",
    "    for i in range(1, num_songs + 1):\n",
    "        with open('./songs/' + artist_name.replace(' ', '_') + '_' + str(i).zfill(num_len) + '.txt', 'r') as f:\n",
    "            lyrics_list.append(f.read())\n",
    "    return lyrics_list, artist_list"
   ]
  },
  {
   "cell_type": "code",
   "execution_count": null,
   "metadata": {},
   "outputs": [],
   "source": [
    "def build_model(X, y):\n",
    "    '''\n",
    "    Trains Logistic Regression model\n",
    "    '''\n",
    "    Xtrain, Xtest, ytrain, ytest = tts(X, y)\n",
    "    cv = CountVectorizer()"
   ]
  },
  {
   "cell_type": "code",
   "execution_count": null,
   "metadata": {},
   "outputs": [],
   "source": [
    "## Main Program:\n",
    "\n",
    "X = []\n",
    "y = []\n",
    "\n",
    "lyrics_list, artist_list = list_lyrics_artist()\n",
    "X.append(lyrics_list)\n",
    "y.append(artist_list)"
   ]
  }
 ],
 "metadata": {
  "kernelspec": {
   "display_name": "Python 3",
   "language": "python",
   "name": "python3"
  },
  "language_info": {
   "codemirror_mode": {
    "name": "ipython",
    "version": 3
   },
   "file_extension": ".py",
   "mimetype": "text/x-python",
   "name": "python",
   "nbconvert_exporter": "python",
   "pygments_lexer": "ipython3",
   "version": "3.8.5"
  }
 },
 "nbformat": 4,
 "nbformat_minor": 4
}
